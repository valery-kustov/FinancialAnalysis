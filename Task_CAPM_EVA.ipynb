{
  "nbformat": 4,
  "nbformat_minor": 0,
  "metadata": {
    "colab": {
      "name": "Task_CAPM_EVA.ipynb",
      "provenance": [],
      "collapsed_sections": [],
      "authorship_tag": "ABX9TyPu8frWIHGSP4Rcxhy+IZWQ",
      "include_colab_link": true
    },
    "kernelspec": {
      "name": "python3",
      "display_name": "Python 3"
    },
    "language_info": {
      "name": "python"
    }
  },
  "cells": [
    {
      "cell_type": "markdown",
      "metadata": {
        "id": "view-in-github",
        "colab_type": "text"
      },
      "source": [
        "<a href=\"https://colab.research.google.com/github/valery-kustov/FinancialAnalysis/blob/main/Task_CAPM_EVA.ipynb\" target=\"_parent\"><img src=\"https://colab.research.google.com/assets/colab-badge.svg\" alt=\"Open In Colab\"/></a>"
      ]
    },
    {
      "cell_type": "markdown",
      "metadata": {
        "id": "_wOW3hSxkUkv"
      },
      "source": [
        "### Описание задания и подготовка блокнота"
      ]
    },
    {
      "cell_type": "code",
      "metadata": {
        "id": "-20h8gok4XO-"
      },
      "source": [
        "**Общее описание**\n",
        "\n",
        "В данном упражненни вам предстоит оценить эффективность работы организации через показатели WACC и ROIC.\n",
        "Мы будем ориентироваться на рыночную оценку показателей доходности и стоимости финансовых ресурсов.\n",
        "Каждый пункт оценивается в 1 бал. Всего за задание 20 балов.\n",
        "Задание можно сдавать в блокноте google colab или в excel.\n",
        "\n",
        "**Расчет стиомости собственного капитала**\n",
        "Во-первых, необходимо рассчитать стоимость собственного капитала. \n",
        "Инвестируя в компанию, мы ожидаем получить доход от роста ее рыночной стоимости - цены акций и получения дивидендов.\n",
        "Рост цены акций будем рассматривать в виде годовой логарифмической доходности по состоянию на отчетную дату.\n",
        "Известно, что временной ряд котировок, может быть достаточно волатильным, а нам необходима более стабильная оценка, в качестве которой можно выбрать доходность акции по CAPM.\n",
        "Данная величина и будет оценкой стоимости собственного капитала.\n",
        "Для оценки CAPM нам необходимо рассчитать бетта акции. \n",
        "Для простоты расчетов оценим данный коэффициент по дневным логарифмическим доходностям на горизонте в 1 год.\n",
        "Дата расчетов: 02.09.2021\n",
        "\n",
        "Итак, необходимо произвести следующие действия:\n",
        "1) загрузить котировки с московской биржи (или другого источника) по указанному в таблицу id компании за период 02.09.2020 - 02.09.2021, режим торгов TQBR, \n",
        "или вручную с https://www.finam.ru/profile/moex-akcii/gazprom/export/, выбрать параметры и нажать 'получить файл'\n",
        "2) загрузить значения индекса IMOEX (режим торгов SNDX) за указанный период или вручную с https://www.moex.com/ru/index/IMOEX/archive/, указать даты и загрузить в csv\n",
        "3) загрузить значения кривых бескупонных доходностей (в качестве безрисковых доходностей) временным горизонтом 1 год за указанный период с https://www.cbr.ru/hd_base/zcyc_params/\n",
        "4) рассчитать логарифмические доходности по дневным ценам закрытия акций, индексу IMOEX и доходностям бескупонных ОФЗ (количество рабочих дней - 243) за указанный период\n",
        "5) рассчитать логарифмические годовые доходности на указанную дату расчетов (значение цены за дату относительно значения цены год назад)\n",
        "6) рассчитать бету по дневным доходностям\n",
        "7) расчитать годовую доходность по акциям на указанную дату расчетов по модели CAPM\n",
        "\n",
        "**Расчет стиомости заемного капитала**\n",
        "В качестве стоимости заемного капитала будем использовать также рыночную оценку.\n",
        "При публичном размещении долга компания платит определенный процент (купон) за пользование заемными средствами.\n",
        "Если для нас привлекательнее финансировать компанию за счет заемных средств, то мы создадаим портфель облигаций.\n",
        "При этом на цену облигации и, как следствие, на доходность, влияют множество рыночных факторов, поэтому фактически мы будем получать доходность в виде YTM (доходность к погашению).\n",
        "Для оценки рыночной стоимости заемного капитала воспользуемся также моделью CAPM, где доходностью будет YTM, а индексом - индекс корпоративных облигаций RUCBITR.\n",
        "\n",
        "В итоге, необходимо произвести следующие действия:\n",
        "8) загрузить котировки с московской биржи (или другого источника) по указанным в таблице isin (id облигации) за указанный период, режим торгов TQCB\n",
        "или вручную с https://www.finam.ru/profile/moex-akcii/gazprom/export/, переключиться на МосБиржа облинагии и найти по названию компании все выпуски\n",
        "9) загрузить значения индекса RUCBITR (режим торгов SNDX) за указанный период или вручную с https://www.moex.com/ru/index/RUCBITR/, указать даты и загрузить в csv\n",
        "10) рассчитать логарифмические доходности по дневным YTM, индексу RUCBITR и доходностям бескупонных ОФЗ (количество рабочих дней - 243) за указанный период\n",
        "11) рассчитать бету по дневным доходностям\n",
        "12) загрузить значения объемов облигаций по заданным isin\n",
        "13) рассчитать средневзвешенную по объемам бету\n",
        "14) расчитать годовую доходность по всем облигациям на указанную дату расчетов по модели CAPM (используя средневзвешенную бету)\n",
        "\n",
        "**Расчет WACC и оценка эффективности использования финансовых ресурсов**\n",
        "Для расчета срнедневзвешенной стоимости капитала (WACC) не хватает значений собственного и заемного капитала.\n",
        "Существуют 2 подхода к расчету WACC - используя рыночные и балансовые оценки, для которых можно найти свои аргументы за и против.\n",
        "При рыночных оценках в качестве размера собственного капитала используется капитализация (как рыночная стоимость всех акций компании), \n",
        "долг компании необходимо привести к текущей стоимсоти PV, то есть продисконтировать, что сложно реализовать, не зная графиков амортизации долга.\n",
        "При балансовой оценке используется показатели собственных и заемных средств из финансовой отчетности компании.\n",
        "Помимо WACC нам необходимо рассчитать ROIC.\n",
        "Если WACC < ROIC, то компания эффективно использует свои ресурсы, если WACC > ROIC, то капитал компании размывается.\n",
        "\n",
        "Таким образом, необходимо произвести следующие действия:\n",
        "15) загрузить значения капитализации, долга, выручки, себестоимости, чистой прибыли, инвестиционых расходов (capex), дивидендов с https://smart-lab.ru/\n",
        "16) рассчитать WACC, используя показатели капитализации и долга компании\n",
        "17) рассчитать коэффициент выплаты дивидендов, коэффициент реинвестирования\n",
        "18) рассчитать roi (чистая прибыль / capex) и коэффициент роста компании (коэффициент реинвестирования * roi)\n",
        "19) рассчитать значение операционной прибыли (выручка - себестоимость), NOPAT (операционная прибыль * (1 - ставка налога 20%)), инвестированного капитала (собственный капитал + заемный капитал по балансовым оценкам)\n",
        "20) рассчитать ROIC (NOPAT / инвестированный капитал), сравнить WACC и ROIC и сделать вывод об эффективности компании и использовании собсвтенных и заемных ресурсов"
      ],
      "execution_count": 1,
      "outputs": []
    },
    {
      "cell_type": "code",
      "metadata": {
        "id": "2tk79W9xjILU"
      },
      "source": [
        "# Импортировать модули, необходимые для работы\n",
        "import math  # математические функции\n",
        "import pandas as pd  # модуль работы с таблицами\n",
        "import pandas_datareader # модель загрузки данных с московской биржи\n",
        "from scipy import stats  # статистические алгоритмы\n",
        "import numpy as np # методы работы с матричными вычислениями\n",
        "from sklearn.metrics import mean_absolute_error\n",
        "from matplotlib import pyplot as plt\n",
        "\n",
        "# Настроить параметры отражения строк\n",
        "pd.options.display.max_rows = 99"
      ],
      "execution_count": 2,
      "outputs": []
    },
    {
      "cell_type": "markdown",
      "metadata": {
        "id": "-wgPs_aFqu2p"
      },
      "source": [
        "### Выбор компании и индекса"
      ]
    },
    {
      "cell_type": "markdown",
      "metadata": {
        "id": "hXSe_wX6ovFy"
      },
      "source": [
        "В качестве примера выбрана компания \"Магнит\"\n",
        "\n",
        "Необходимо проверить список ценных бумаг, прошедших листинг и торгуемых на бирже по ссылке https://www.moex.com/ru/listing/securities-list.aspx\n",
        "(в поиске по ссылке указать \"Магнит\" и вывести список)\n",
        "\n",
        "У компании \"Магнит\" торгуются обыкновенные акции с торговым кодом 'MGNT' и несколько биржевых облигаций с ISIN: 'RU000A101HJ8', 'RU000A1002U4', 'RU000A101MC3', 'RU000A101PJ1', 'RU000A100ZS3', 'RU000A1018X4'\n",
        "\n",
        "В качестве индекса испольуется\n",
        "* Индекс Московской Биржи 'IMOEX'\n",
        "* Индекс корпоративных облигаций 'RUCBITR'"
      ]
    },
    {
      "cell_type": "code",
      "metadata": {
        "id": "UPEiVtcootHS"
      },
      "source": [
        "# Заполним выбранны биржевые коды\n",
        "sec_id = 'MGNT'\n",
        "\n",
        "equity_list = [sec_id]\n",
        "\n",
        "bonds_list = ['RU000A101HJ8', 'RU000A1002U4', 'RU000A101MC3', 'RU000A101PJ1', 'RU000A100ZS3', 'RU000A1018X4']\n",
        "\n",
        "indexes_list = ['IMOEX', 'RUCBITR']\n",
        "\n",
        "# Количество рабочих дней в году\n",
        "num_working_days = 243"
      ],
      "execution_count": 3,
      "outputs": []
    },
    {
      "cell_type": "markdown",
      "metadata": {
        "id": "8WjodxMbnhII"
      },
      "source": [
        "### Загрузка и обработка данных"
      ]
    },
    {
      "cell_type": "code",
      "metadata": {
        "id": "M1Au0iLvnhgH"
      },
      "source": [
        "# Загрузить котировки по выбранным ценным бумагам с московской биржи\n",
        "# Временной интервал - от начала 2019 до 21.12.21\n",
        "moex_ids = indexes_list + equity_list + bonds_list\n",
        "data = pandas_datareader.moex.MoexReader(symbols=moex_ids, start=\"2019-01-01\", end=\"2021-12-21\").read()\n",
        "data.reset_index(inplace=True)"
      ],
      "execution_count": 4,
      "outputs": []
    },
    {
      "cell_type": "markdown",
      "metadata": {
        "id": "_Y9loZFenVgd"
      },
      "source": [
        "### Расчет стоимости собственного капитала по CAPM"
      ]
    },
    {
      "cell_type": "markdown",
      "metadata": {
        "id": "x4EXoIR-tjb8"
      },
      "source": [
        "При выборе цен важно правильно выбрать режим торгов.\n",
        "Соответствие кодов и описаний режимов торгов можно найти по ссылке http://ftp.moex.com/pub/ClientsAPI/ASTS/docs/ASTS_Markets_and_Boards.pdf\n",
        "\n",
        "Наиболее активные торги велись по режиму TQBR - акции и депотизатрные расписки\n",
        "\n",
        "Для индексов применяется обозначение режима SNDX\n",
        "\n",
        "Из данных необходимо выбрать несколько атрибутов:\n",
        "* \"TRADEDATE\" - дата торгов\n",
        "* \"BOARDID\" - режим торгов\n",
        "* \"SECID\" - идентификатор ценной бумаги\n",
        "* \"CLOSE\" - цена закрытия"
      ]
    },
    {
      "cell_type": "code",
      "metadata": {
        "id": "6hI2U_Iw2NTv"
      },
      "source": [
        "# Выберем из загруженных данных только значения индекса Московсой биржи и обыкновыенных акций Магнита\n",
        "def prepare_quotes(sec_id: str):\n",
        "  df = data[(data[\"SECID\"].isin([\"IMOEX\",sec_id]))&(data[\"BOARDID\"].isin([\"TQBR\", \"SNDX\"]))][[\"TRADEDATE\", \"BOARDID\", \"SECID\", \"CLOSE\"]].copy()\n",
        "\n",
        "  # Отсортируем значения по дате и идентификатору ценной бумаги, удалим дубликаты и пропущенные значения (при наличии)\n",
        "  df.sort_values(by=[\"TRADEDATE\", \"SECID\"], inplace=True)\n",
        "  df.drop_duplicates(subset=[\"TRADEDATE\", \"SECID\"], inplace=True)\n",
        "  df.dropna(inplace=True)\n",
        "\n",
        "  # Рассчитаем логарифмы цен и логарифмические дневные доходности\n",
        "  df[\"LOG\"] = df[\"CLOSE\"].apply(lambda x: math.log(x))\n",
        "  df[\"log_yield\"] = df.groupby(\"SECID\")[\"LOG\"].diff()\n",
        "\n",
        "  # Преобразуем таблицу (индексы - дата торгов, колонки - идентификаторы ценных бумаг и индексов, значения - логарифмические доходности)\n",
        "  df_quotes = df.pivot(index=\"TRADEDATE\", columns=\"SECID\", values=\"log_yield\")\n",
        "  df_quotes.dropna(inplace=True)\n",
        "  return df, df_quotes\n",
        "\n",
        "df_equity, df_quotes = prepare_quotes(sec_id=equity_list[0])"
      ],
      "execution_count": 5,
      "outputs": []
    },
    {
      "cell_type": "markdown",
      "metadata": {
        "id": "oCCNKfGYrQoG"
      },
      "source": [
        "Для поиска значения кривой бескупонной доходности ОФЗ на дату (безрисковая доходность) будем использовать сервис Центрального Банка России https://www.cbr.ru/hd_base/zcyc_params/\n",
        "\n",
        "На 21.05.2021 с временным горизонтом 1 год безрисковая доходность составляет 5.5%. Для перевода годовой ставки в дневную используем формулу простых процентов, количество торговых дней примем за 243.\n",
        "\n",
        "Дневную безрисковую доходность необходимо также прологарифмировать ln(1+risk_free_rate)"
      ]
    },
    {
      "cell_type": "code",
      "metadata": {
        "id": "pbF7mzO1YLEs"
      },
      "source": [
        "# Загрузить безрисковые ставки с сайта центрального банка\n",
        "url = \"https://www.cbr.ru/hd_base/zcyc_params/?UniDbQuery.Posted=True&UniDbQuery.From=01.01.2019&UniDbQuery.To=31.12.2021\"\n",
        "tables = pd.read_html(url)\n",
        "df_g_curve = tables[0]\n",
        "df_g_curve = pd.concat([df_g_curve[\"Дата\"][[\"Дата\"]].rename(columns={\"Дата\": \"TRADEDATE\"}), df_g_curve[\"Срок до погашения, лет\"]], axis=1)\n",
        "df_g_curve[\"TRADEDATE\"] = pd.to_datetime(df_g_curve[\"TRADEDATE\"], dayfirst=True)\n",
        "df_g_curve.sort_values(by=\"TRADEDATE\", inplace=True)\n",
        "df_g_curve.set_index(\"TRADEDATE\", inplace=True)"
      ],
      "execution_count": 6,
      "outputs": []
    },
    {
      "cell_type": "code",
      "metadata": {
        "id": "7hqTy0KZZ03D"
      },
      "source": [
        "# Рассчитать логарифмические доходности по кривым ОФЗ\n",
        "df_ln_g = df_g_curve.copy()\n",
        "for col in df_ln_g.columns:\n",
        "  df_ln_g[col] = df_ln_g[col].apply(lambda x: math.log(1+x/10000/num_working_days))"
      ],
      "execution_count": 7,
      "outputs": []
    },
    {
      "cell_type": "code",
      "metadata": {
        "id": "We70uNJucXuh"
      },
      "source": [
        "# Добавить логарифмические дневные доходности к таблице доходностей акций и индекса\n",
        "df_quotes = pd.merge(df_quotes, df_ln_g[[\"1\"]].rename(columns={\"1\": \"OFZ\"}), left_index=True, right_index=True)"
      ],
      "execution_count": 8,
      "outputs": []
    },
    {
      "cell_type": "code",
      "metadata": {
        "colab": {
          "base_uri": "https://localhost:8080/",
          "height": 294
        },
        "id": "M3BW911sf2da",
        "outputId": "d1bae349-7cbe-4027-f2e4-066d73463f1f"
      },
      "source": [
        "# На графика видна зависимость между акциями магнита и индексом ММВБ\n",
        "df_quotes.plot()"
      ],
      "execution_count": 9,
      "outputs": [
        {
          "output_type": "execute_result",
          "data": {
            "text/plain": [
              "<matplotlib.axes._subplots.AxesSubplot at 0x7f037eefc050>"
            ]
          },
          "metadata": {},
          "execution_count": 9
        },
        {
          "output_type": "display_data",
          "data": {
            "image/png": "[encoded data removed]",
            "text/plain": [
              "<Figure size 432x288 with 1 Axes>"
            ]
          },
          "metadata": {
            "needs_background": "light"
          }
        }
      ]
    },
    {
      "cell_type": "code",
      "metadata": {
        "colab": {
          "base_uri": "https://localhost:8080/",
          "height": 296
        },
        "id": "Q_1zpgFEf6Md",
        "outputId": "eae65b3b-02ef-4442-ef5e-9be29b1ea2b8"
      },
      "source": [
        "# На точечном графике видна зависимость между акциями магнита и индексом ММВБ\n",
        "df_quotes.plot.scatter(x=\"IMOEX\", y=sec_id)"
      ],
      "execution_count": 10,
      "outputs": [
        {
          "output_type": "execute_result",
          "data": {
            "text/plain": [
              "<matplotlib.axes._subplots.AxesSubplot at 0x7f037eee0a90>"
            ]
          },
          "metadata": {},
          "execution_count": 10
        },
        {
          "output_type": "display_data",
          "data": {
            "image/png": "[encoded data removed]",
            "text/plain": [
              "<Figure size 432x288 with 1 Axes>"
            ]
          },
          "metadata": {
            "needs_background": "light"
          }
        }
      ]
    },
    {
      "cell_type": "code",
      "metadata": {
        "colab": {
          "base_uri": "https://localhost:8080/"
        },
        "id": "Zd-Ldsw__uOH",
        "outputId": "3530c93f-a870-4bee-9a7f-043e2e9bf3cc"
      },
      "source": [
        "# Подберем коэффициенты линейной регрессии за всю историю от 2019 до 2021, где x - логарифмические доходности акции, y - логарифмические доходности индекса\n",
        "# slope - наклон линии или коэффициент бетта, intercept - пересечение линией оси x\n",
        "model = stats.linregress(x=df_quotes[\"IMOEX\"]-df_quotes[\"OFZ\"], y=df_quotes[sec_id]-df_quotes[\"OFZ\"])\n",
        "print(model)"
      ],
      "execution_count": 11,
      "outputs": [
        {
          "output_type": "stream",
          "name": "stdout",
          "text": [
            "LinregressResult(slope=0.7353144317192978, intercept=5.641643972555073e-05, rvalue=0.49578838974551276, pvalue=1.17745005907917e-43, stderr=0.049356537068446615)\n"
          ]
        }
      ]
    },
    {
      "cell_type": "code",
      "metadata": {
        "id": "_Vw3yWIihc_k"
      },
      "source": [
        "# Рассчитаем бетты скользящим окном. Размер окна определим как количество рабочих дней в году\n",
        "w = 243\n",
        "lr_coefs = dict()\n",
        "for i in range(w-1, df_quotes.shape[0]):\n",
        "  df_iter = df_quotes[df_quotes.index[i-w+1]:df_quotes.index[i]]\n",
        "  model = stats.linregress(x=df_iter[\"IMOEX\"]-df_iter[\"OFZ\"], y=df_iter[sec_id]-df_iter[\"OFZ\"])\n",
        "  lr_coefs[df_quotes.index[i]] = model\n",
        "df_coefs = pd.DataFrame.from_dict(lr_coefs).transpose()\n",
        "df_coefs.columns=[\"slope\", \"intercept\", \"rvalue\", \"pvalue\", \"stderr\"]"
      ],
      "execution_count": 12,
      "outputs": []
    },
    {
      "cell_type": "code",
      "metadata": {
        "colab": {
          "base_uri": "https://localhost:8080/"
        },
        "id": "01HkrDlJot1s",
        "outputId": "d409ee77-4236-4355-b6b1-bec6440a3abd"
      },
      "source": [
        "df_capm = pd.merge(df_quotes, df_coefs, left_index=True, right_index=True)\n",
        "df_capm[\"capm_yield\"] = df_capm.apply(lambda x: x[\"OFZ\"]+x[\"intercept\"]+x[\"slope\"]*(x[\"IMOEX\"]-x[\"OFZ\"]), axis=1)\n",
        "df_capm[\"equity_yield\"] = df_capm[\"capm_yield\"].apply(lambda x: math.exp(x)-1)\n",
        "last_date = str(df_capm.index[-1])\n",
        "print(f\"Значение бетта на {last_date}:\", round(df_capm.loc[last_date, \"slope\"], 2))\n",
        "print(f\"Дневная доходность по CAPM на {last_date}:\", round(df_capm.loc[last_date, \"equity_yield\"]*100, 2), \"%\")"
      ],
      "execution_count": 13,
      "outputs": [
        {
          "output_type": "stream",
          "name": "stdout",
          "text": [
            "Значение бетта на 2021-09-17 00:00:00: 0.46\n",
            "Дневная доходность по CAPM на 2021-09-17 00:00:00: -0.11 %\n"
          ]
        }
      ]
    },
    {
      "cell_type": "code",
      "metadata": {
        "colab": {
          "base_uri": "https://localhost:8080/",
          "height": 280
        },
        "id": "ABr1zcZXn021",
        "outputId": "b8a2deca-bf2e-4490-8815-e890980fbb61"
      },
      "source": [
        "# Как видно на графике, доходности по CAPM менее волатильны, чем реальные\n",
        "df_capm[[sec_id, \"capm_yield\"]].plot()"
      ],
      "execution_count": 14,
      "outputs": [
        {
          "output_type": "execute_result",
          "data": {
            "text/plain": [
              "<matplotlib.axes._subplots.AxesSubplot at 0x7f037ef4fdd0>"
            ]
          },
          "metadata": {},
          "execution_count": 14
        },
        {
          "output_type": "display_data",
          "data": {
            "image/png": "[encoded data removed]",
            "text/plain": [
              "<Figure size 432x288 with 1 Axes>"
            ]
          },
          "metadata": {
            "needs_background": "light"
          }
        }
      ]
    },
    {
      "cell_type": "code",
      "metadata": {
        "colab": {
          "base_uri": "https://localhost:8080/",
          "height": 280
        },
        "id": "0Yzdh1zbwYWt",
        "outputId": "e06bc87b-cfc3-4fe3-baa2-fbf4e17dc889"
      },
      "source": [
        "# На графике отражено изменение бетта во времени\n",
        "# В марте 2020 года произошло корреляционное смещение, что вызвало рост бетта\n",
        "# До марта бетта 2021 бетта находилась в коридоре 0.8-0.9, а в марте 2021 снизилаь до нового уровня 0.5-0.6\n",
        "df_capm[\"slope\"].plot()"
      ],
      "execution_count": 15,
      "outputs": [
        {
          "output_type": "execute_result",
          "data": {
            "text/plain": [
              "<matplotlib.axes._subplots.AxesSubplot at 0x7f037ef28410>"
            ]
          },
          "metadata": {},
          "execution_count": 15
        },
        {
          "output_type": "display_data",
          "data": {
            "image/png": "[encoded data removed]",
            "text/plain": [
              "<Figure size 432x288 with 1 Axes>"
            ]
          },
          "metadata": {
            "needs_background": "light"
          }
        }
      ]
    },
    {
      "cell_type": "code",
      "metadata": {
        "colab": {
          "base_uri": "https://localhost:8080/",
          "height": 204
        },
        "id": "p9REm6JR3WHT",
        "outputId": "d90db9e5-8713-4719-bbc2-862ab5c23957"
      },
      "source": [
        "display(df_capm.tail())"
      ],
      "execution_count": 16,
      "outputs": [
        {
          "output_type": "display_data",
          "data": {
            "text/html": [
              "<div>\n",
              "<style scoped>\n",
              "    .dataframe tbody tr th:only-of-type {\n",
              "        vertical-align: middle;\n",
              "    }\n",
              "\n",
              "    .dataframe tbody tr th {\n",
              "        vertical-align: top;\n",
              "    }\n",
              "\n",
              "    .dataframe thead th {\n",
              "        text-align: right;\n",
              "    }\n",
              "</style>\n",
              "<table border=\"1\" class=\"dataframe\">\n",
              "  <thead>\n",
              "    <tr style=\"text-align: right;\">\n",
              "      <th></th>\n",
              "      <th>IMOEX</th>\n",
              "      <th>MGNT</th>\n",
              "      <th>OFZ</th>\n",
              "      <th>slope</th>\n",
              "      <th>intercept</th>\n",
              "      <th>rvalue</th>\n",
              "      <th>pvalue</th>\n",
              "      <th>stderr</th>\n",
              "      <th>capm_yield</th>\n",
              "      <th>equity_yield</th>\n",
              "    </tr>\n",
              "  </thead>\n",
              "  <tbody>\n",
              "    <tr>\n",
              "      <th>2021-09-13</th>\n",
              "      <td>0.009573</td>\n",
              "      <td>0.021576</td>\n",
              "      <td>0.000282</td>\n",
              "      <td>0.464682</td>\n",
              "      <td>-0.000372</td>\n",
              "      <td>0.320733</td>\n",
              "      <td>3.228607e-07</td>\n",
              "      <td>0.088396</td>\n",
              "      <td>0.004227</td>\n",
              "      <td>0.004236</td>\n",
              "    </tr>\n",
              "    <tr>\n",
              "      <th>2021-09-14</th>\n",
              "      <td>0.003592</td>\n",
              "      <td>-0.010451</td>\n",
              "      <td>0.000282</td>\n",
              "      <td>0.463305</td>\n",
              "      <td>-0.000416</td>\n",
              "      <td>0.319340</td>\n",
              "      <td>3.654255e-07</td>\n",
              "      <td>0.088562</td>\n",
              "      <td>0.001400</td>\n",
              "      <td>0.001401</td>\n",
              "    </tr>\n",
              "    <tr>\n",
              "      <th>2021-09-15</th>\n",
              "      <td>0.002421</td>\n",
              "      <td>0.022704</td>\n",
              "      <td>0.000283</td>\n",
              "      <td>0.461193</td>\n",
              "      <td>-0.000285</td>\n",
              "      <td>0.316297</td>\n",
              "      <td>4.778100e-07</td>\n",
              "      <td>0.089103</td>\n",
              "      <td>0.000984</td>\n",
              "      <td>0.000984</td>\n",
              "    </tr>\n",
              "    <tr>\n",
              "      <th>2021-09-16</th>\n",
              "      <td>-0.005038</td>\n",
              "      <td>0.037986</td>\n",
              "      <td>0.000284</td>\n",
              "      <td>0.454094</td>\n",
              "      <td>-0.000144</td>\n",
              "      <td>0.305332</td>\n",
              "      <td>1.225552e-06</td>\n",
              "      <td>0.091225</td>\n",
              "      <td>-0.002277</td>\n",
              "      <td>-0.002274</td>\n",
              "    </tr>\n",
              "    <tr>\n",
              "      <th>2021-09-17</th>\n",
              "      <td>-0.002458</td>\n",
              "      <td>0.002272</td>\n",
              "      <td>0.000284</td>\n",
              "      <td>0.456530</td>\n",
              "      <td>-0.000104</td>\n",
              "      <td>0.306504</td>\n",
              "      <td>1.110134e-06</td>\n",
              "      <td>0.091327</td>\n",
              "      <td>-0.001072</td>\n",
              "      <td>-0.001072</td>\n",
              "    </tr>\n",
              "  </tbody>\n",
              "</table>\n",
              "</div>"
            ],
            "text/plain": [
              "               IMOEX      MGNT       OFZ  ...    stderr  capm_yield  equity_yield\n",
              "2021-09-13  0.009573  0.021576  0.000282  ...  0.088396    0.004227      0.004236\n",
              "2021-09-14  0.003592 -0.010451  0.000282  ...  0.088562    0.001400      0.001401\n",
              "2021-09-15  0.002421  0.022704  0.000283  ...  0.089103    0.000984      0.000984\n",
              "2021-09-16 -0.005038  0.037986  0.000284  ...  0.091225   -0.002277     -0.002274\n",
              "2021-09-17 -0.002458  0.002272  0.000284  ...  0.091327   -0.001072     -0.001072\n",
              "\n",
              "[5 rows x 10 columns]"
            ]
          },
          "metadata": {}
        }
      ]
    },
    {
      "cell_type": "markdown",
      "metadata": {
        "id": "DAFy9tPL0MdX"
      },
      "source": [
        "На данный момент нами рассчитаны дневные доходности по CAPM. Но нас интересуют годовые значения доходностей.\n",
        "\n",
        "Для этого рассчитаем годовые логарифмические доходности и применим к ним коэффициенты CAPM."
      ]
    },
    {
      "cell_type": "code",
      "metadata": {
        "colab": {
          "base_uri": "https://localhost:8080/"
        },
        "id": "hI0AmfOTQ13Z",
        "outputId": "028b6d96-9395-4b41-a31a-aee57adc376c"
      },
      "source": [
        "rep_date = \"2021-09-02\"\n",
        "last_year_date = \"2020-09-02\"\n",
        "\n",
        "# Бетта коэффициент - это наклон линии (slope)\n",
        "betta = df_capm.loc[rep_date, \"slope\"]\n",
        "intercept = df_capm.loc[rep_date, \"intercept\"]\n",
        "\n",
        "# Логарифмическая доходность по ОФЗ с временным горизнтом 1 год\n",
        "risk_free_rate = math.log(1+df_g_curve.loc[rep_date, \"1\"]/10000)\n",
        "print(\"log_risk_free_rate\", risk_free_rate)\n",
        "\n",
        "# Логарифмическая годовая доходность индекса за 1 год\n",
        "df_moex = df_equity.loc[df_equity[\"SECID\"]==\"IMOEX\", [\"TRADEDATE\", \"LOG\", \"log_yield\"]]\n",
        "df_moex.set_index(\"TRADEDATE\", inplace=True)\n",
        "index_yield = df_moex.loc[rep_date, \"LOG\"]-df_moex.loc[last_year_date, \"LOG\"]\n",
        "print(\"index_yield \", index_yield)\n",
        "\n",
        "# Премия за риск\n",
        "risk_premium = betta*(index_yield - risk_free_rate)\n",
        "print(\"log_risk_premium\", risk_premium)\n",
        " \n",
        "# Стоимость собственного капитала по CAPM\n",
        "equity_cost_rate = math.exp(intercept + risk_free_rate + risk_premium)-1\n",
        "print(\"equity_cost_rate\", round(equity_cost_rate*100, 2), \"%\")"
      ],
      "execution_count": 17,
      "outputs": [
        {
          "output_type": "stream",
          "name": "stdout",
          "text": [
            "log_risk_free_rate 0.0649446886403821\n",
            "index_yield  0.2999780584604457\n",
            "log_risk_premium 0.1078606887867021\n",
            "equity_cost_rate 18.85 %\n"
          ]
        }
      ]
    },
    {
      "cell_type": "markdown",
      "metadata": {
        "id": "JOxF8Jgw4TEt"
      },
      "source": [
        "### Расчет стоимости заемного капитала по CAPM"
      ]
    },
    {
      "cell_type": "markdown",
      "metadata": {
        "id": "fZoxwaB95Pe7"
      },
      "source": [
        "Для расчета стоимости долговых ценных бумаг необходим аналог доходности. Для облигаций таковой является доходность к погашению YTM (ставка дисконта, при которой рыночная цена облигации равна ее номиналу).\n",
        "\n",
        "В качестве доходности индекса используется доходность, рассчитанная биржей по RUCBITR.\n",
        "\n",
        "В качестве доходности облигации используется доходность по каждому выпуску."
      ]
    },
    {
      "cell_type": "code",
      "metadata": {
        "id": "fQw0xV19dRDY"
      },
      "source": [
        "def get_bond_table(bond_id: str, start_date: str, end_date: str, n_working_days: int = 243):\n",
        "  # n_working_days = 1 - годовые доходности\n",
        "  # n_working_days = 243 - дневные доходности\n",
        "  df_bonds = data.loc[data[\"BOARDID\"].isin(['SNDX', 'TQCB'])&data[\"SECID\"].isin(['RUCBITR', bond_id]), [\"TRADEDATE\", \"SECID\", \"YIELD\", \"YIELDCLOSE\"]]\n",
        "\n",
        "  df_bonds.sort_values(by=[\"TRADEDATE\", \"SECID\"], inplace=True)\n",
        "  df_bonds.drop_duplicates(subset=[\"TRADEDATE\",\"SECID\"], inplace=True)\n",
        "\n",
        "  df_bonds['YTM'] = df_bonds.apply(lambda x: x[\"YIELD\"] if not pd.isnull(x[\"YIELD\"]) else x[\"YIELDCLOSE\"], axis=1)\n",
        "  df_bonds.drop(columns=[\"YIELD\",\t\"YIELDCLOSE\"], inplace=True)\n",
        "\n",
        "  df_bonds[\"log_yield\"] = df_bonds[\"YTM\"].apply(lambda x: math.log(1+x/100/n_working_days))\n",
        "\n",
        "  df_quotes_bonds = df_bonds.pivot(index=\"TRADEDATE\", columns=\"SECID\", values=\"log_yield\")\n",
        "  df_quotes_bonds.dropna(inplace=True)\n",
        "  df_quotes_bonds = df_quotes_bonds[start_date:end_date]\n",
        "  df_quotes_bonds = pd.merge(df_quotes_bonds, df_g_curve[[\"1\"]].rename(columns={\"1\": \"OFZ\"}), left_index=True, right_index=True)\n",
        "  df_quotes_bonds[\"OFZ\"] = df_quotes_bonds[\"OFZ\"].apply(lambda x: math.log(1+x/10000/num_working_days))\n",
        "  return df_quotes_bonds"
      ],
      "execution_count": 18,
      "outputs": []
    },
    {
      "cell_type": "code",
      "metadata": {
        "colab": {
          "base_uri": "https://localhost:8080/",
          "height": 1000
        },
        "id": "5Sxvx1Bs0d6S",
        "outputId": "ebb925ef-62b8-4fda-8779-c71830283f13"
      },
      "source": [
        "rep_date = \"2021-09-02\"\n",
        "bonds_start_date = \"2021-01-01\"\n",
        "for bond_id in bonds_list:\n",
        "  df_quotes_bonds = get_bond_table(bond_id=bond_id, start_date=bonds_start_date, end_date=rep_date)\n",
        "  display(df_quotes_bonds.plot.scatter(x=\"RUCBITR\", y=bond_id))"
      ],
      "execution_count": 19,
      "outputs": [
        {
          "output_type": "display_data",
          "data": {
            "text/plain": [
              "<matplotlib.axes._subplots.AxesSubplot at 0x7f037eee4910>"
            ]
          },
          "metadata": {}
        },
        {
          "output_type": "display_data",
          "data": {
            "text/plain": [
              "<matplotlib.axes._subplots.AxesSubplot at 0x7f037ef7e410>"
            ]
          },
          "metadata": {}
        },
        {
          "output_type": "display_data",
          "data": {
            "text/plain": [
              "<matplotlib.axes._subplots.AxesSubplot at 0x7f037ef71390>"
            ]
          },
          "metadata": {}
        },
        {
          "output_type": "display_data",
          "data": {
            "text/plain": [
              "<matplotlib.axes._subplots.AxesSubplot at 0x7f037ef65790>"
            ]
          },
          "metadata": {}
        },
        {
          "output_type": "display_data",
          "data": {
            "text/plain": [
              "<matplotlib.axes._subplots.AxesSubplot at 0x7f037ef6a490>"
            ]
          },
          "metadata": {}
        },
        {
          "output_type": "display_data",
          "data": {
            "text/plain": [
              "<matplotlib.axes._subplots.AxesSubplot at 0x7f037efdf2d0>"
            ]
          },
          "metadata": {}
        },
        {
          "output_type": "display_data",
          "data": {
            "image/png": "[encoded data removed]",
            "text/plain": [
              "<Figure size 432x288 with 1 Axes>"
            ]
          },
          "metadata": {
            "needs_background": "light"
          }
        },
        {
          "output_type": "display_data",
          "data": {
            "image/png": "[encoded data removed]",
            "text/plain": [
              "<Figure size 432x288 with 1 Axes>"
            ]
          },
          "metadata": {
            "needs_background": "light"
          }
        },
        {
          "output_type": "display_data",
          "data": {
            "image/png": "[encoded data removed]",
            "text/plain": [
              "<Figure size 432x288 with 1 Axes>"
            ]
          },
          "metadata": {
            "needs_background": "light"
          }
        },
        {
          "output_type": "display_data",
          "data": {
            "image/png": "[encoded data removed]",
            "text/plain": [
              "<Figure size 432x288 with 1 Axes>"
            ]
          },
          "metadata": {
            "needs_background": "light"
          }
        },
        {
          "output_type": "display_data",
          "data": {
            "image/png": "[encoded data removed]",
            "text/plain": [
              "<Figure size 432x288 with 1 Axes>"
            ]
          },
          "metadata": {
            "needs_background": "light"
          }
        },
        {
          "output_type": "display_data",
          "data": {
            "image/png": "[encoded data removed]",
            "text/plain": [
              "<Figure size 432x288 with 1 Axes>"
            ]
          },
          "metadata": {
            "needs_background": "light"
          }
        }
      ]
    },
    {
      "cell_type": "code",
      "metadata": {
        "id": "R3vIVVYcdaFd",
        "colab": {
          "base_uri": "https://localhost:8080/"
        },
        "outputId": "73217275-6da8-4758-e392-024a9508fc01"
      },
      "source": [
        "# Рассчитаем долговые бетта для всех выпусков облигаций\n",
        "debt_bettas = dict()\n",
        "\n",
        "for bond_id in bonds_list:\n",
        "  df_quotes_bonds = get_bond_table(bond_id=bond_id, start_date=bonds_start_date, end_date=rep_date)\n",
        "  model = stats.linregress(x=df_quotes_bonds[\"RUCBITR\"]-df_quotes_bonds[\"OFZ\"], y=df_quotes_bonds[bond_id]-df_quotes_bonds[\"OFZ\"])\n",
        "  print(bond_id, model)\n",
        "  debt_bettas[bond_id] = model.slope"
      ],
      "execution_count": 20,
      "outputs": [
        {
          "output_type": "stream",
          "name": "stdout",
          "text": [
            "RU000A101HJ8 LinregressResult(slope=0.4659727625223055, intercept=1.4966455555381282e-05, rvalue=0.6867739407491185, pvalue=3.4200943316055243e-25, stderr=0.03793680535790558)\n",
            "RU000A1002U4 LinregressResult(slope=0.7938507855872857, intercept=-3.511895198252895e-05, rvalue=0.44359537982632863, pvalue=1.2280322725419665e-09, stderr=0.12337484438293289)\n",
            "RU000A101MC3 LinregressResult(slope=0.6202609622950148, intercept=7.578620630227922e-06, rvalue=0.6653397304721369, pvalue=3.215221396306812e-23, stderr=0.05353541063796452)\n",
            "RU000A101PJ1 LinregressResult(slope=0.8333797068339382, intercept=-2.5121565681747245e-06, rvalue=0.8840193598892047, pvalue=1.0604082310727297e-57, stderr=0.03389793353847313)\n",
            "RU000A100ZS3 LinregressResult(slope=0.7394196846429545, intercept=-3.890004863783459e-05, rvalue=0.25093419321021565, pvalue=0.0009314524846852575, stderr=0.21941435130282577)\n",
            "RU000A1018X4 LinregressResult(slope=0.653421129099, intercept=-1.4044456366933545e-06, rvalue=0.6184622029336541, pvalue=2.000429349129087e-19, stderr=0.06386408923166374)\n"
          ]
        }
      ]
    },
    {
      "cell_type": "code",
      "metadata": {
        "id": "Q-uBXH-2-WXH"
      },
      "source": [
        "# Для взвешивания доходностей облигации будем использовать объем эмиссии\n",
        "bonds_volumes={\"RU000A101HJ8\": 15000000000,\n",
        "               \"RU000A1002U4\": 10000000000,\n",
        "               \"RU000A101MC3\": 10000000000,\n",
        "               \"RU000A101PJ1\": 15000000000,\n",
        "               \"RU000A100ZS3\": 10000000000,\n",
        "               \"RU000A1018X4\": 10000000000}"
      ],
      "execution_count": 21,
      "outputs": []
    },
    {
      "cell_type": "code",
      "metadata": {
        "colab": {
          "base_uri": "https://localhost:8080/"
        },
        "id": "3tsdbDREgdoT",
        "outputId": "f4fdc2f2-0278-4a52-cdd6-cc934639382f"
      },
      "source": [
        "# Рассчитать средневзвешенную бетта\n",
        "weighted_betta = 0\n",
        "for bond_id in bonds_list:\n",
        "  weighted_betta += debt_bettas[bond_id]*bonds_volumes[bond_id]\n",
        "weighted_betta = weighted_betta/sum(bonds_volumes.values())\n",
        "print(\"Средневзвешенная бетта:\", weighted_betta)"
      ],
      "execution_count": 22,
      "outputs": [
        {
          "output_type": "stream",
          "name": "stdout",
          "text": [
            "Средневзвешенная бетта: 0.6794258950940887\n"
          ]
        }
      ]
    },
    {
      "cell_type": "code",
      "metadata": {
        "colab": {
          "base_uri": "https://localhost:8080/"
        },
        "id": "L7bshBrugdwg",
        "outputId": "7351bd95-ca5c-4198-d5ea-fe3bacd364c8"
      },
      "source": [
        "# Расчитать годовые доходности\n",
        "df_quotes_bonds = get_bond_table(bond_id=bond_id, start_date=bonds_start_date, end_date=rep_date,  n_working_days=1)\n",
        "\n",
        "# Доходность по ОФЗ https://www.cbr.ru/hd_base/zcyc_params/\n",
        "risk_free_rate = df_quotes_bonds.loc[rep_date, \"OFZ\"]\n",
        "print(\"log_risk_free_rate\", risk_free_rate)\n",
        "\n",
        "# Логарифмическая доходность индекса на (последнее значение в таблице)\n",
        "index_yield = df_quotes_bonds.loc[rep_date, \"RUCBITR\"]\n",
        "print(\"log_index_yield \", index_yield)\n",
        "\n",
        "# Премия за риск\n",
        "risk_premium = weighted_betta*(index_yield - risk_free_rate)\n",
        "print(\"log_risk_premium\", risk_premium)\n",
        "\n",
        "# Стоимость собственного капитала по CAPM\n",
        "debt_cost_rate = math.exp(risk_free_rate + risk_premium)-1\n",
        "print(\"debt_cost_rate\", round(debt_cost_rate*100, 2), \"%\")"
      ],
      "execution_count": 23,
      "outputs": [
        {
          "output_type": "stream",
          "name": "stdout",
          "text": [
            "log_risk_free_rate 0.0002760935699052563\n",
            "log_index_yield  0.07352923328811553\n",
            "log_risk_premium 0.04977008002149736\n",
            "debt_cost_rate 5.13 %\n"
          ]
        }
      ]
    },
    {
      "cell_type": "markdown",
      "metadata": {
        "id": "7JHUsTluAzNM"
      },
      "source": [
        "### Обработка данных финансовой отчетности"
      ]
    },
    {
      "cell_type": "code",
      "metadata": {
        "id": "pTX0P4fWEkbw"
      },
      "source": [
        "# Загрузить финансовые показатели компаний\n",
        "fin_reports = dict()\n",
        "for sec_id in equity_list:\n",
        "  try:\n",
        "    df_fin = pd.read_html(f\"https://smart-lab.ru/q/{sec_id}/f/y/MSFO/\")[0]\n",
        "    df_fin = pd.concat([df_fin.loc[:,0], df_fin.loc[:,3:7]], axis=1)\n",
        "    cols = df_fin.loc[2,:].dropna().values.tolist()\n",
        "    df_fin = df_fin.loc[3:]\n",
        "    df_fin.columns=[\"Label\"] + cols\n",
        "    df_fin.dropna(subset=[\"Label\"], inplace=True)\n",
        "    df_fin.set_index(\"Label\", inplace=True)\n",
        "    fin_reports[sec_id] = df_fin.copy()\n",
        "  except Exception as e:\n",
        "    print(sec_id, e)"
      ],
      "execution_count": 24,
      "outputs": []
    },
    {
      "cell_type": "code",
      "metadata": {
        "id": "mTkC55uVCYSx"
      },
      "source": [
        "# Для загрузки актуальной капитализации (при необходимости) можно возпользоваться сайтом Московской биржи\n",
        "# capitalizations = pd.read_html(\"https://www.moex.com/a7714\")\n",
        "# df_cap = capitalizations[0]\n",
        "# capitalization = float(df_cap.loc[df_cap[\"Торговый код ценной бумаги\"]==equity_list[0], \"Капитализация, руб.\"].values.item().replace(\" \", \"\").replace(\",\", \".\"))/1000\n",
        "# print(\"capitalization\", capitalization)"
      ],
      "execution_count": null,
      "outputs": []
    },
    {
      "cell_type": "code",
      "metadata": {
        "colab": {
          "base_uri": "https://localhost:8080/"
        },
        "id": "739U7743EoQY",
        "outputId": "6088c482-ed11-49d6-90f9-5dfffbf1a523"
      },
      "source": [
        "# Извлечем финансовые показатели из таблицы\n",
        "report_year = \"2020\"\n",
        "capitalization = float(fin_reports[sec_id].loc[\"Капитализация, млрд руб\", report_year].replace(\" \", \"\"))\n",
        "book_value = float(fin_reports[sec_id].loc[\"Баланс стоимость, млрд руб\", report_year].replace(\" \", \"\"))\n",
        "debt = float(fin_reports[sec_id].loc[\"Долг, млрд руб\", report_year].replace(\" \", \"\"))\n",
        "cash = float(fin_reports[sec_id].loc[\"Наличность, млрд руб\", report_year].replace(\" \", \"\"))\n",
        "print(\"capitalization:\", capitalization)\n",
        "print(\"book_value:\", book_value)\n",
        "print(\"debt\", debt)\n",
        "print(\"cash:\", cash)"
      ],
      "execution_count": 25,
      "outputs": [
        {
          "output_type": "stream",
          "name": "stdout",
          "text": [
            "capitalization: 586.0\n",
            "book_value: 150.5\n",
            "debt 166.1\n",
            "cash: 44.7\n"
          ]
        }
      ]
    },
    {
      "cell_type": "code",
      "metadata": {
        "id": "vBHKIVwlGD2V",
        "colab": {
          "base_uri": "https://localhost:8080/"
        },
        "outputId": "0128337b-4b13-45e5-e70e-9f041f8b6a7b"
      },
      "source": [
        "# Ставка налога\n",
        "tax_rate = 0.2\n",
        "\n",
        "# Расчет WACC\n",
        "wacc_mv = capitalization/(capitalization+debt)*equity_cost_rate+debt/(capitalization+debt)*debt_cost_rate*(1-tax_rate)\n",
        "wacc_bv = book_value/(book_value+debt)*equity_cost_rate+debt/(book_value+debt)*debt_cost_rate*(1-tax_rate)\n",
        "\n",
        "print(\"WACC MV:\", wacc_mv*100)\n",
        "print(\"WACC BV:\", wacc_bv*100)"
      ],
      "execution_count": 26,
      "outputs": [
        {
          "output_type": "stream",
          "name": "stdout",
          "text": [
            "WACC MV: 15.596784051719172\n",
            "WACC BV: 11.116401068658432\n"
          ]
        }
      ]
    },
    {
      "cell_type": "markdown",
      "metadata": {
        "id": "vooZ2edKA9xR"
      },
      "source": [
        "### Расчет мультипликатора Enterprize Value к EBITDA и ожидаемого роста компании"
      ]
    },
    {
      "cell_type": "code",
      "metadata": {
        "id": "LZuyxKqy4QyL"
      },
      "source": [
        "# Рассчитать коэффициент выплаты дивидендов, коэффициент реинвестирования\n",
        "dividend_rate = float(fin_reports[sec_id].loc[\"Дивиденды/прибыль, %\", report_year].replace(\"%\", \"\"))/100\n",
        "retention_rate = 1 - dividend_rate"
      ],
      "execution_count": 31,
      "outputs": []
    },
    {
      "cell_type": "code",
      "metadata": {
        "id": "szl6izuR4I-8"
      },
      "source": [
        "# Рассчитать roi (чистая прибыль / capex) и коэффициент роста компании (коэффициент реинвестирования * roi)\n",
        "net_profit = float(fin_reports[sec_id].loc[\"Чистая прибыль, млрд руб\", report_year].replace(\" \", \"\"))\n",
        "capex = float(fin_reports[sec_id].loc[\"CAPEX, млрд руб\", report_year].replace(\" \", \"\"))\n",
        "roi = net_profit/capex - 1\n",
        "g_current = retention_rate*roi"
      ],
      "execution_count": 32,
      "outputs": []
    },
    {
      "cell_type": "code",
      "metadata": {
        "id": "Y8vwsmIe4oj-"
      },
      "source": [
        "# рассчитать значение операционной прибыли (выручка - себестоимость), NOPAT (операционная прибыль * (1 - ставка налога 20%)), инвестированного капитала (собственный капитал + заемный капитал по балансовым оценкам)\n",
        "oper_profit = float(fin_reports[sec_id].loc[\"Выручка, млрд руб\", report_year].replace(\" \", \"\")) - float(fin_reports[sec_id].loc[\"Себестоимость, млрд руб\", report_year].replace(\" \", \"\"))\n",
        "roic = oper_profit / (book_value+debt) - 1"
      ],
      "execution_count": 33,
      "outputs": []
    },
    {
      "cell_type": "code",
      "metadata": {
        "colab": {
          "base_uri": "https://localhost:8080/"
        },
        "id": "C8vnq4TcNRzV",
        "outputId": "8dcb9bc9-9b50-484e-fa60-83e0b2fd28a4"
      },
      "source": [
        "# Сравнить WACC и ROIC и сделать вывод об эффективности компании и использовании собсвтенных и заемных ресурсов\n",
        "print(\"Коэффициент выплаты дивидендов\", round(dividend_rate*100, 2), \"%\")\n",
        "print(\"Коэффициент роста компании\", round(g_current*100, 2), \"%\")\n",
        "\n",
        "print(\"ROIC\", round(roic*100, 2), \"%\")\n",
        "print(\"WACC MV:\", round(wacc_mv*100, 2), \"%\")"
      ],
      "execution_count": 34,
      "outputs": [
        {
          "output_type": "stream",
          "name": "stdout",
          "text": [
            "Коэффициент выплаты дивидендов 152.0 %\n",
            "Коэффициент роста компании -1.46 %\n",
            "ROIC 15.6 %\n",
            "WACC MV: 15.6 %\n"
          ]
        }
      ]
    },
    {
      "cell_type": "code",
      "metadata": {
        "id": "p3vtfd-CEZ8-"
      },
      "source": [
        ""
      ],
      "execution_count": null,
      "outputs": []
    }
  ]
}